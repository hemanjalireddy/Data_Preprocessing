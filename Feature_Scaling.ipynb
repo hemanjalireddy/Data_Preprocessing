{
  "nbformat": 4,
  "nbformat_minor": 0,
  "metadata": {
    "colab": {
      "name": "Feature_Scaling.ipynb",
      "provenance": [],
      "toc_visible": true,
      "authorship_tag": "ABX9TyMfpGuWuFO3duanSfk8gRsV"
    },
    "kernelspec": {
      "name": "python3",
      "display_name": "Python 3"
    },
    "language_info": {
      "name": "python"
    }
  },
  "cells": [
    {
      "cell_type": "markdown",
      "source": [
        "# Data Preprocessing"
      ],
      "metadata": {
        "id": "r30qDAvMOAd6"
      }
    },
    {
      "cell_type": "markdown",
      "source": [
        "## Import the libraries"
      ],
      "metadata": {
        "id": "xf4C7lYdOEJD"
      }
    },
    {
      "cell_type": "code",
      "execution_count": null,
      "metadata": {
        "id": "GqBwcYw6N8FW"
      },
      "outputs": [],
      "source": [
        "import numpy as np\n",
        "import pandas as pd\n",
        "import matplotlib.pyplot as plt"
      ]
    },
    {
      "cell_type": "markdown",
      "source": [
        "## Load the data"
      ],
      "metadata": {
        "id": "WzppOiQmOQ5P"
      }
    },
    {
      "cell_type": "code",
      "source": [
        "data = pd.read_csv('/content/Data.csv')\n",
        "x = data.iloc[: , : -1].values\n",
        "y = data.iloc[: , -1].values\n",
        "\n"
      ],
      "metadata": {
        "id": "WA19eFLVOMx6"
      },
      "execution_count": 10,
      "outputs": []
    },
    {
      "cell_type": "markdown",
      "source": [
        "## Taking Care of missing data"
      ],
      "metadata": {
        "id": "IKecEtIGQXCG"
      }
    },
    {
      "cell_type": "code",
      "source": [
        "from sklearn.impute import SimpleImputer\n",
        "imputer = SimpleImputer(missing_values = np.nan ,strategy = 'mean')\n",
        "imputer.fit(x[: , 1:3])\n",
        "x[: , 1:3] = imputer.transform(x[: , 1:3])\n",
        "x"
      ],
      "metadata": {
        "colab": {
          "base_uri": "https://localhost:8080/"
        },
        "id": "TW_W01IIQZBu",
        "outputId": "d84bdb58-3d65-46b0-af33-199521d83645"
      },
      "execution_count": 12,
      "outputs": [
        {
          "output_type": "execute_result",
          "data": {
            "text/plain": [
              "array([['France', 44.0, 72000.0],\n",
              "       ['Spain', 27.0, 48000.0],\n",
              "       ['Germany', 30.0, 54000.0],\n",
              "       ['Spain', 38.0, 61000.0],\n",
              "       ['Germany', 40.0, 63777.77777777778],\n",
              "       ['France', 35.0, 58000.0],\n",
              "       ['Spain', 38.77777777777778, 52000.0],\n",
              "       ['France', 48.0, 79000.0],\n",
              "       ['Germany', 50.0, 83000.0],\n",
              "       ['France', 37.0, 67000.0]], dtype=object)"
            ]
          },
          "metadata": {},
          "execution_count": 12
        }
      ]
    },
    {
      "cell_type": "markdown",
      "source": [
        "## Encoding Categorical Data"
      ],
      "metadata": {
        "id": "24kCu5i6TC9P"
      }
    },
    {
      "cell_type": "markdown",
      "source": [
        "### Encoding the Independent variable\n",
        "\n",
        "\n",
        "\n"
      ],
      "metadata": {
        "id": "vbJ7KV38V9Um"
      }
    },
    {
      "cell_type": "code",
      "source": [
        "from sklearn.compose import ColumnTransformer\n",
        "from sklearn.preprocessing import OneHotEncoder\n",
        "ct = ColumnTransformer(transformers = [('encoder' , OneHotEncoder(), [0])] , remainder ='passthrough')\n",
        "x = np.array(ct.fit_transform(x))      \n",
        "x                "
      ],
      "metadata": {
        "colab": {
          "base_uri": "https://localhost:8080/"
        },
        "id": "Fr9S_GxUTFPV",
        "outputId": "0bd453c2-3a47-4484-a4a9-d7917f61f9b3"
      },
      "execution_count": 15,
      "outputs": [
        {
          "output_type": "execute_result",
          "data": {
            "text/plain": [
              "array([[0.0, 1.0, 0.0, 0.0, 44.0, 72000.0],\n",
              "       [1.0, 0.0, 0.0, 1.0, 27.0, 48000.0],\n",
              "       [1.0, 0.0, 1.0, 0.0, 30.0, 54000.0],\n",
              "       [1.0, 0.0, 0.0, 1.0, 38.0, 61000.0],\n",
              "       [1.0, 0.0, 1.0, 0.0, 40.0, 63777.77777777778],\n",
              "       [0.0, 1.0, 0.0, 0.0, 35.0, 58000.0],\n",
              "       [1.0, 0.0, 0.0, 1.0, 38.77777777777778, 52000.0],\n",
              "       [0.0, 1.0, 0.0, 0.0, 48.0, 79000.0],\n",
              "       [1.0, 0.0, 1.0, 0.0, 50.0, 83000.0],\n",
              "       [0.0, 1.0, 0.0, 0.0, 37.0, 67000.0]], dtype=object)"
            ]
          },
          "metadata": {},
          "execution_count": 15
        }
      ]
    },
    {
      "cell_type": "markdown",
      "source": [
        "### Encoding the Dependent Variable"
      ],
      "metadata": {
        "id": "13PeB-5uXm49"
      }
    },
    {
      "cell_type": "code",
      "source": [
        "from sklearn.preprocessing import LabelEncoder\n",
        "le = LabelEncoder()\n",
        "y = le.fit_transform(y) #doesnt have to be numpy array as it is a dependent variable\n",
        "y"
      ],
      "metadata": {
        "colab": {
          "base_uri": "https://localhost:8080/"
        },
        "id": "j0BcXU0vXq3X",
        "outputId": "a4cc1c5e-de8d-4426-a7f2-9c947717776e"
      },
      "execution_count": 17,
      "outputs": [
        {
          "output_type": "execute_result",
          "data": {
            "text/plain": [
              "array([0, 1, 0, 0, 1, 1, 0, 1, 0, 1])"
            ]
          },
          "metadata": {},
          "execution_count": 17
        }
      ]
    },
    {
      "cell_type": "markdown",
      "source": [
        "## Splitting the dataset into Training and Testing set"
      ],
      "metadata": {
        "id": "l6-jH59-Z68N"
      }
    },
    {
      "cell_type": "code",
      "source": [
        "from sklearn.model_selection import train_test_split\n",
        "x_train , x_test , y_train , y_test = train_test_split(x , y , test_size =0.2 , random_state =1)\n"
      ],
      "metadata": {
        "colab": {
          "base_uri": "https://localhost:8080/"
        },
        "id": "5rLX2dfLaBT6",
        "outputId": "3f2e06dc-89a1-47f4-fb5d-6c91a96c49d8"
      },
      "execution_count": 19,
      "outputs": [
        {
          "output_type": "execute_result",
          "data": {
            "text/plain": [
              "array([[1.0, 0.0, 0.0, 1.0, 38.77777777777778, 52000.0],\n",
              "       [1.0, 0.0, 1.0, 0.0, 40.0, 63777.77777777778],\n",
              "       [0.0, 1.0, 0.0, 0.0, 44.0, 72000.0],\n",
              "       [1.0, 0.0, 0.0, 1.0, 38.0, 61000.0],\n",
              "       [1.0, 0.0, 0.0, 1.0, 27.0, 48000.0],\n",
              "       [0.0, 1.0, 0.0, 0.0, 48.0, 79000.0],\n",
              "       [1.0, 0.0, 1.0, 0.0, 50.0, 83000.0],\n",
              "       [0.0, 1.0, 0.0, 0.0, 35.0, 58000.0]], dtype=object)"
            ]
          },
          "metadata": {},
          "execution_count": 19
        }
      ]
    },
    {
      "cell_type": "code",
      "source": [
        "x_train"
      ],
      "metadata": {
        "colab": {
          "base_uri": "https://localhost:8080/"
        },
        "id": "tXqm1DXZa9mY",
        "outputId": "ef22310f-394b-4161-8281-852e89def240"
      },
      "execution_count": 20,
      "outputs": [
        {
          "output_type": "execute_result",
          "data": {
            "text/plain": [
              "array([[1.0, 0.0, 0.0, 1.0, 38.77777777777778, 52000.0],\n",
              "       [1.0, 0.0, 1.0, 0.0, 40.0, 63777.77777777778],\n",
              "       [0.0, 1.0, 0.0, 0.0, 44.0, 72000.0],\n",
              "       [1.0, 0.0, 0.0, 1.0, 38.0, 61000.0],\n",
              "       [1.0, 0.0, 0.0, 1.0, 27.0, 48000.0],\n",
              "       [0.0, 1.0, 0.0, 0.0, 48.0, 79000.0],\n",
              "       [1.0, 0.0, 1.0, 0.0, 50.0, 83000.0],\n",
              "       [0.0, 1.0, 0.0, 0.0, 35.0, 58000.0]], dtype=object)"
            ]
          },
          "metadata": {},
          "execution_count": 20
        }
      ]
    },
    {
      "cell_type": "code",
      "source": [
        "x_test"
      ],
      "metadata": {
        "colab": {
          "base_uri": "https://localhost:8080/"
        },
        "id": "kQOvkyZqa9gm",
        "outputId": "b4df2f9e-6373-43a9-c0fa-0e57082b0fe0"
      },
      "execution_count": 21,
      "outputs": [
        {
          "output_type": "execute_result",
          "data": {
            "text/plain": [
              "array([[1.0, 0.0, 1.0, 0.0, 30.0, 54000.0],\n",
              "       [0.0, 1.0, 0.0, 0.0, 37.0, 67000.0]], dtype=object)"
            ]
          },
          "metadata": {},
          "execution_count": 21
        }
      ]
    },
    {
      "cell_type": "code",
      "source": [
        "y_train"
      ],
      "metadata": {
        "colab": {
          "base_uri": "https://localhost:8080/"
        },
        "id": "IFXGsOw9a9YM",
        "outputId": "8c4ec5ca-8af2-442f-f419-2184276417d5"
      },
      "execution_count": 22,
      "outputs": [
        {
          "output_type": "execute_result",
          "data": {
            "text/plain": [
              "array([0, 1, 0, 0, 1, 1, 0, 1])"
            ]
          },
          "metadata": {},
          "execution_count": 22
        }
      ]
    },
    {
      "cell_type": "code",
      "source": [
        "y_test"
      ],
      "metadata": {
        "colab": {
          "base_uri": "https://localhost:8080/"
        },
        "id": "QSWOWVsya9Oy",
        "outputId": "607a6101-ff76-4c7c-e9f4-83dc21518f41"
      },
      "execution_count": 23,
      "outputs": [
        {
          "output_type": "execute_result",
          "data": {
            "text/plain": [
              "array([0, 1])"
            ]
          },
          "metadata": {},
          "execution_count": 23
        }
      ]
    },
    {
      "cell_type": "markdown",
      "source": [
        "## Feature Scaling"
      ],
      "metadata": {
        "id": "DrFFGPIXbWX-"
      }
    },
    {
      "cell_type": "code",
      "source": [
        "from sklearn.preprocessing import StandardScaler\n",
        "sc = StandardScaler()\n",
        "x_train[: , 3:] = sc.fit_transform(x_train[: , 3:])\n",
        "x_test[: , 3:] = sc.transform(x_test[: , 3:])     #apply the same scaler used on the training set thats why only use transform method"
      ],
      "metadata": {
        "id": "CdWCvCSVbX0E"
      },
      "execution_count": 27,
      "outputs": []
    },
    {
      "cell_type": "code",
      "source": [
        "x_train"
      ],
      "metadata": {
        "colab": {
          "base_uri": "https://localhost:8080/"
        },
        "id": "TiIz4zTmelEG",
        "outputId": "d2c7d76c-535b-4e9b-ae8a-fc065fc3beca"
      },
      "execution_count": 28,
      "outputs": [
        {
          "output_type": "execute_result",
          "data": {
            "text/plain": [
              "array([[1.0, 0.0, 0.0, 1.2909944487358058, -0.1915918438457856,\n",
              "        -1.0781259408412427],\n",
              "       [1.0, 0.0, 1.0, -0.7745966692414835, -0.014117293757057902,\n",
              "        -0.07013167641635401],\n",
              "       [0.0, 1.0, 0.0, -0.7745966692414835, 0.5667085065333239,\n",
              "        0.6335624327104546],\n",
              "       [1.0, 0.0, 0.0, 1.2909944487358058, -0.3045301939022488,\n",
              "        -0.30786617274297895],\n",
              "       [1.0, 0.0, 0.0, 1.2909944487358058, -1.901801144700799,\n",
              "        -1.4204636155515822],\n",
              "       [0.0, 1.0, 0.0, -0.7745966692414835, 1.1475343068237056,\n",
              "        1.2326533634535488],\n",
              "       [1.0, 0.0, 1.0, -0.7745966692414835, 1.4379472069688966,\n",
              "        1.5749910381638883],\n",
              "       [0.0, 1.0, 0.0, -0.7745966692414835, -0.7401495441200352,\n",
              "        -0.5646194287757336]], dtype=object)"
            ]
          },
          "metadata": {},
          "execution_count": 28
        }
      ]
    },
    {
      "cell_type": "code",
      "source": [
        "x_test"
      ],
      "metadata": {
        "colab": {
          "base_uri": "https://localhost:8080/"
        },
        "id": "V6DBscPLelrX",
        "outputId": "4e0b2fe4-567b-490e-e905-5be24c52ca17"
      },
      "execution_count": 29,
      "outputs": [
        {
          "output_type": "execute_result",
          "data": {
            "text/plain": [
              "array([[1.0, 0.0, 1.0, -0.7745966692414835, -1.4661817944830127,\n",
              "        -0.9069571034860731],\n",
              "       [0.0, 1.0, 0.0, -0.7745966692414835, -0.44973664397484425,\n",
              "        0.20564033932253029]], dtype=object)"
            ]
          },
          "metadata": {},
          "execution_count": 29
        }
      ]
    }
  ]
}